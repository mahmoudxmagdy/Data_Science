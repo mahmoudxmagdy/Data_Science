{
 "cells": [
  {
   "cell_type": "code",
   "execution_count": 2,
   "metadata": {
    "collapsed": false
   },
   "outputs": [
    {
     "name": "stdout",
     "output_type": "stream",
     "text": [
      "9.0\n",
      "Hello \n",
      "This is me \n",
      "I am going to be a \t Data scientist\n"
     ]
    }
   ],
   "source": [
    "x=2\n",
    "y=5\n",
    "z=(x*x)+(y*y)/5\n",
    "print(z)\n",
    "print('Hello \\nThis is me \\nI am going to be a \\t Data scientist')"
   ]
  },
