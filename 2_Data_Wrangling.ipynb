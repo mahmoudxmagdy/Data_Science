{
 "cells": [
  {
   "cell_type": "code",
   "execution_count": 2,
   "metadata": {
    "collapsed": false
   },
   "outputs": [
    {
     "name": "stdout",
     "output_type": "stream",
     "text": [
      "9.0\n",
      "Hello \n",
      "This is me \n",
      "I am going to be a \t Data scientist\n"
     ]
    }
   ],
   "source": [
    "x=2\n",
    "y=5\n",
    "z=(x*x)+(y*y)/5\n",
    "print(z)\n",
    "print('Hello \\nThis is me \\nI am going to be a \\t Data scientist')"
   ]
  },
  {
   "cell_type": "code",
   "execution_count": 3,
   "metadata": {
    "collapsed": false
   },
   "outputs": [
    {
     "name": "stdout",
     "output_type": "stream",
     "text": [
      "['Abdel Samee3', 'Amin', ['Ali', 'AIX']]\n"
     ]
    },
    {
     "data": {
      "text/plain": [
       "['Abdel Samee3', 'Amin', ['Ali', 'AIX']]"
      ]
     },
     "execution_count": 3,
     "metadata": {},
     "output_type": "execute_result"
    }
   ],
   "source": [
    "#Lists\n",
    "Magdy=['Mahmoud','Magdy','Amin']\n",
    "Magdy.append(['Ali','AIX'])\n",
    "Magdy[3][1]\n",
    "Magdy[0]='Abdel Samee3'\n",
    "del(Magdy[1])\n",
    "y=Magdy[1].split()\n",
    "print(Magdy)\n",
    "magdy2=Magdy[:]\n",
    "magdy2"
   ]
  },
  {
   "cell_type": "code",
   "execution_count": 4,
   "metadata": {
    "collapsed": false
   },
   "outputs": [
    {
     "data": {
      "text/plain": [
       "1"
      ]
     },
     "execution_count": 4,
     "metadata": {},
     "output_type": "execute_result"
    }
   ],
   "source": [
    "#Tuples\n",
    "Mtuple=(1,2,3,'Magdy',['B','C','X'])\n",
    "Mtuple[0]"
   ]
  },
  {
   "cell_type": "code",
   "execution_count": 5,
   "metadata": {
    "collapsed": false
   },
   "outputs": [
    {
     "name": "stdout",
     "output_type": "stream",
     "text": [
      "{'123', 'I', 'Magdy', '20', 'Gamed', 'am'}\n",
      "{'123', 'Magdy', '20', 'Gamed', 'am'}\n"
     ]
    },
    {
     "data": {
      "text/plain": [
       "False"
      ]
     },
     "execution_count": 5,
     "metadata": {},
     "output_type": "execute_result"
    }
   ],
   "source": [
    "#Sets\n",
    "Set1={'I','am','Magdy','123','20'}\n",
    "Set1.add('Gamed')\n",
    "print(Set1)\n",
    "Set1.remove('I')\n",
    "print(Set1)\n",
    "\"aim\" in Set1"
   ]
  },
  {
   "cell_type": "code",
   "execution_count": 6,
   "metadata": {
    "collapsed": false
   },
   "outputs": [
    {
     "name": "stdout",
     "output_type": "stream",
     "text": [
      "{'m4': 'Data', 'm2': 'Magdy', 'm3': 'Amin'}\n"
     ]
    },
    {
     "data": {
      "text/plain": [
       "dict_values(['Data', 'Magdy', 'Amin'])"
      ]
     },
     "execution_count": 6,
     "metadata": {},
     "output_type": "execute_result"
    }
   ],
   "source": [
    "#Dictionaries\n",
    "\n",
    "Dic={'m1':'Mahmoud', 'm2':'Magdy', 'm3':'Amin'}\n",
    "Dic['m2']\n",
    "Dic['m4']='Data'\n",
    "del(Dic['m1'])\n",
    "print(Dic)\n",
    "'m2' in Dic\n",
    "Dic.values()"
   ]
  },
  {
   "cell_type": "code",
   "execution_count": 7,
   "metadata": {
    "collapsed": false
   },
   "outputs": [
    {
     "name": "stdout",
     "output_type": "stream",
     "text": [
      "Go HOME\n",
      "Move on\n"
     ]
    }
   ],
   "source": [
    "#IF statement\n",
    "x1=20\n",
    "y1=21\n",
    "if x1==18:\n",
    "    print('you can enter gate1')\n",
    "elif x1<=17:\n",
    "    print ('you can enter gate2')\n",
    "elif y1==20 or x1>18:\n",
    "    print (\"Go HOME\")\n",
    "else:\n",
    "    print('You have no place here')\n",
    "    \n",
    "print('Move on')"
   ]
  },
  {
   "cell_type": "code",
   "execution_count": 8,
   "metadata": {
    "collapsed": false
   },
   "outputs": [
    {
     "name": "stdout",
     "output_type": "stream",
     "text": [
      "1\n",
      "2\n",
      "3\n",
      "4\n",
      "5\n",
      "[1, 2, 3, 4, 5]\n",
      "[0]\n",
      "[0, 1]\n",
      "[0, 1, 2]\n",
      "[0, 1, 2, 3]\n",
      "[0, 1, 2, 3, 4]\n",
      "Final shape of y3 =  [0, 1, 2, 3, 4]\n"
     ]
    }
   ],
   "source": [
    "#Loops\n",
    "##For loop\n",
    "r=[0,1,2,3,4]\n",
    "r2=[]\n",
    "x2=0\n",
    "for i in r:\n",
    "    x2=r[i]+1\n",
    "    print(x2)\n",
    "    r2.append(x2)\n",
    "print(r2)\n",
    "\n",
    "\n",
    "##While loop\n",
    "x3=[0,1,2,3,4,5]\n",
    "y3=[]\n",
    "\n",
    "i2=0\n",
    "while x3[i2]<5:\n",
    "    y3.append(x3[i2])\n",
    "    print(y3)\n",
    "    i2=i2+1\n",
    "    \n",
    "print(\"Final shape of y3 = \",y3)"
   ]
  },
  {
   "cell_type": "code",
   "execution_count": 9,
   "metadata": {
    "collapsed": false
   },
   "outputs": [
    {
     "name": "stdout",
     "output_type": "stream",
     "text": [
      "5\n",
      "15\n",
      "[1, 2, 3, 5, 21, 53, 89]\n",
      "16\n",
      "No. 0  Rate: 10\n",
      "No. 1  Rate: 7\n",
      "No. 2  Rate: 8.5\n",
      "No. 3  Rate: 9\n",
      "['Mahmoud', 'magdy', 'amin', 'ali']\n"
     ]
    }
   ],
   "source": [
    "#Functions\n",
    "l1=[3,5,1,2,89,53,21]\n",
    "\n",
    "l=len(r2) #length\n",
    "print(l) \n",
    "\n",
    "s=sum(r2) #sum \n",
    "print(s)\n",
    "\n",
    "l1=sorted(l1) #Sort a list\n",
    "print(l1)\n",
    "\n",
    "def f1(inp): # built function\n",
    "    oup=inp+1;\n",
    "    return oup\n",
    "print(f1(s))\n",
    "\n",
    "#loop in function\n",
    "stuff=[10,7,8.5,9]\n",
    "def prstuff(stuff):\n",
    "    for i,s in enumerate(stuff):\n",
    "        print(\"No.\",i,\" Rate:\",s)\n",
    "prstuff(stuff)\n",
    "\n",
    "#Variadic parameter\n",
    "artists=[\"Mahmoud\",'magdy','amin','ali']\n",
    "def artist(*names):\n",
    "    for name in names:\n",
    "        print(name)\n",
    "artist(artists)"
   ]
  },
  {
   "cell_type": "code",
   "execution_count": 10,
   "metadata": {
    "collapsed": false
   },
   "outputs": [
    {
     "name": "stdout",
     "output_type": "stream",
     "text": [
      "AaaCDC\n",
      "AaaCDC\n"
     ]
    },
    {
     "data": {
      "text/plain": [
       "str"
      ]
     },
     "execution_count": 10,
     "metadata": {},
     "output_type": "execute_result"
    }
   ],
   "source": [
    "def addDC(y):\n",
    "    global xy\n",
    "    xy=y+\"DC\"\n",
    "    return(xy)\n",
    "x=\"AaaC\"\n",
    "z=addDC(x)\n",
    "print(z)\n",
    "print(xy)\n",
    "type(z)\n",
    "\n"
   ]
  },
  {
   "cell_type": "code",
   "execution_count": 11,
   "metadata": {
    "collapsed": false
   },
   "outputs": [
    {
     "name": "stdout",
     "output_type": "stream",
     "text": [
      "10\n",
      "12\n"
     ]
    }
   ],
   "source": [
    "#Classes\n",
    "\n",
    "class cir():\n",
    "    def __init__(self,radius,color):\n",
    "        self.radius=radius\n",
    "        self.color=color\n",
    "    def add_radius(self,r):\n",
    "        self.radius=self.radius+r\n",
    "\n",
    "ct=cir(10,\"Red\")\n",
    "print(ct.radius)\n",
    "ct.add_radius(2)\n",
    "print(ct.radius)\n",
    "#dir(ct.color)\n",
    "    "
   ]
  },
  {
   "cell_type": "code",
   "execution_count": 12,
   "metadata": {
    "collapsed": false
   },
   "outputs": [
    {
     "name": "stdout",
     "output_type": "stream",
     "text": [
      "True\n",
      "I love dogs\n",
      "I don't like Cats\n",
      "I may own a dog or Hippo but not a cat\n",
      "\n",
      "True\n"
     ]
    }
   ],
   "source": [
    "##Data Analysis with Python\n",
    "\n",
    "#file1=open(\"/resources/data/trial.txt\",\"w\")\n",
    "#print(file1.name)\n",
    "#file1.close\n",
    "\n",
    "l1=[\"I love dogs\\n\",\"I don't like Cats\\n\",\"I may own a dog or Hippo but not a cat\\n\"]\n",
    "with open (\"/resources/data/trial.txt\",\"w\") as file1:\n",
    "    for line in l1:\n",
    "        file1.write(line)\n",
    "print(file1.closed)\n",
    "\n",
    "with open(\"/resources/data/trial.txt\",\"r\") as file1:       \n",
    "    print(file1.read())\n",
    "print(file1.closed)\n",
    "    \n",
    "    \n"
   ]
  },
  {
   "cell_type": "code",
   "execution_count": 13,
   "metadata": {
    "collapsed": false
   },
   "outputs": [
    {
     "data": {
      "text/html": [
       "<div>\n",
       "<style scoped>\n",
       "    .dataframe tbody tr th:only-of-type {\n",
       "        vertical-align: middle;\n",
       "    }\n",
       "\n",
       "    .dataframe tbody tr th {\n",
       "        vertical-align: top;\n",
       "    }\n",
       "\n",
       "    .dataframe thead th {\n",
       "        text-align: right;\n",
       "    }\n",
       "</style>\n",
       "<table border=\"1\" class=\"dataframe\">\n",
       "  <thead>\n",
       "    <tr style=\"text-align: right;\">\n",
       "      <th></th>\n",
       "      <th>Year</th>\n",
       "      <th>City</th>\n",
       "      <th>Sport</th>\n",
       "      <th>Discipline</th>\n",
       "      <th>NOC</th>\n",
       "      <th>Event</th>\n",
       "      <th>Event gender</th>\n",
       "      <th>Medal</th>\n",
       "    </tr>\n",
       "  </thead>\n",
       "  <tbody>\n",
       "    <tr>\n",
       "      <th>1266</th>\n",
       "      <td>1992</td>\n",
       "      <td>Albertville</td>\n",
       "      <td>Bobsleigh</td>\n",
       "      <td>Bobsleigh</td>\n",
       "      <td>AUT</td>\n",
       "      <td>four-man</td>\n",
       "      <td>M</td>\n",
       "      <td>Gold</td>\n",
       "    </tr>\n",
       "    <tr>\n",
       "      <th>1267</th>\n",
       "      <td>1992</td>\n",
       "      <td>Albertville</td>\n",
       "      <td>Luge</td>\n",
       "      <td>Luge</td>\n",
       "      <td>AUT</td>\n",
       "      <td>singles</td>\n",
       "      <td>M</td>\n",
       "      <td>Bronze</td>\n",
       "    </tr>\n",
       "    <tr>\n",
       "      <th>1268</th>\n",
       "      <td>1992</td>\n",
       "      <td>Albertville</td>\n",
       "      <td>Luge</td>\n",
       "      <td>Luge</td>\n",
       "      <td>AUT</td>\n",
       "      <td>singles</td>\n",
       "      <td>M</td>\n",
       "      <td>Silver</td>\n",
       "    </tr>\n",
       "    <tr>\n",
       "      <th>1269</th>\n",
       "      <td>1992</td>\n",
       "      <td>Albertville</td>\n",
       "      <td>Luge</td>\n",
       "      <td>Luge</td>\n",
       "      <td>AUT</td>\n",
       "      <td>singles</td>\n",
       "      <td>W</td>\n",
       "      <td>Gold</td>\n",
       "    </tr>\n",
       "    <tr>\n",
       "      <th>1270</th>\n",
       "      <td>1992</td>\n",
       "      <td>Albertville</td>\n",
       "      <td>Luge</td>\n",
       "      <td>Luge</td>\n",
       "      <td>AUT</td>\n",
       "      <td>singles</td>\n",
       "      <td>W</td>\n",
       "      <td>Silver</td>\n",
       "    </tr>\n",
       "  </tbody>\n",
       "</table>\n",
       "</div>"
      ],
      "text/plain": [
       "      Year         City      Sport Discipline  NOC     Event Event gender  \\\n",
       "1266  1992  Albertville  Bobsleigh  Bobsleigh  AUT  four-man            M   \n",
       "1267  1992  Albertville       Luge       Luge  AUT   singles            M   \n",
       "1268  1992  Albertville       Luge       Luge  AUT   singles            M   \n",
       "1269  1992  Albertville       Luge       Luge  AUT   singles            W   \n",
       "1270  1992  Albertville       Luge       Luge  AUT   singles            W   \n",
       "\n",
       "       Medal  \n",
       "1266    Gold  \n",
       "1267  Bronze  \n",
       "1268  Silver  \n",
       "1269    Gold  \n",
       "1270  Silver  "
      ]
     },
     "execution_count": 13,
     "metadata": {},
     "output_type": "execute_result"
    }
   ],
   "source": [
    "#dataframes and laoding data in pandas\n",
    "\n",
    "import pandas as pd\n",
    "csv_path=\"/resources/data/samples/olympic-medals/medals.csv\"\n",
    "df=pd.read_csv(csv_path)\n",
    "df.head()\n",
    "\n",
    "yeardf=df[['Year']]\n",
    "#yeardf\n",
    "\n",
    "df.iloc[0,2] #indexing iloc is used instead of ix as ix is not installed here\n",
    "z=df.iloc[0:3,0:5]\n",
    "z\n",
    "\n",
    "df['Year'].unique() # shows the values of that column with no duplications\n",
    "df['Year']>=\"2000\" # gives boolean values of the condition corresponding to each row of column years\n",
    "\n",
    "df1=df[df['Year']>=\"1990\"] # put in new DF the old dataframe with only values after year 1990\n",
    "df1.head()\n",
    "\n"
   ]
  },
  {
   "cell_type": "code",
   "execution_count": 14,
   "metadata": {
    "collapsed": false
   },
   "outputs": [
    {
     "name": "stderr",
     "output_type": "stream",
     "text": [
      "/usr/local/lib/python3.5/dist-packages/matplotlib/font_manager.py:273: UserWarning: Matplotlib is building the font cache using fc-list. This may take a moment.\n",
      "  warnings.warn('Matplotlib is building the font cache using fc-list. This may take a moment.')\n",
      "/usr/local/lib/python3.5/dist-packages/matplotlib/font_manager.py:273: UserWarning: Matplotlib is building the font cache using fc-list. This may take a moment.\n",
      "  warnings.warn('Matplotlib is building the font cache using fc-list. This may take a moment.')\n"
     ]
    },
    {
     "data": {
      "text/plain": [
       "1.8320289616147916"
      ]
     },
     "execution_count": 14,
     "metadata": {},
     "output_type": "execute_result"
    },
    {
     "data": {
      "image/png": "[encoded data removed]",
      "text/plain": [
       "<matplotlib.figure.Figure at 0x7f0f910aaeb8>"
      ]
     },
     "metadata": {},
     "output_type": "display_data"
    }
   ],
   "source": [
    "## Arrays\n",
    "\n",
    "#1D array\n",
    "\n",
    "import numpy as np\n",
    "a=np.array([0,1,2,3,4,5,6,7,8,9])\n",
    "a\n",
    "type(a)\n",
    "a.size\n",
    "a.shape\n",
    "\n",
    "# adding array a and b and put in array c\n",
    "b=np.array([0,1,2,3,4,5,6,7,8,9])\n",
    "c=a+b\n",
    "c\n",
    "\n",
    "##adding array using loops\n",
    "u=np.array([0,1])\n",
    "v=np.array([1,2])\n",
    "uv=u+v\n",
    "uv\n",
    "\n",
    "uxv=2*v # multiplying arrays\n",
    "uxv\n",
    "\n",
    "udv=np.dot(u,v) #dot product of u and v\n",
    "udv\n",
    "\n",
    "max_b=b.max()\n",
    "max_b\n",
    "\n",
    "mean_b=b.mean()\n",
    "mean_b\n",
    "\n",
    "piarr=np.array([0,np.pi/2,np.pi]) # using pi=3.14 in the array\n",
    "piarr\n",
    "\n",
    "sinarr=np.sin(piarr) # convert pi to sin\n",
    "sinarr\n",
    "\n",
    "seq=np.linspace(-2,2,num=5) # creating seuence array\n",
    "seq\n",
    "\n",
    "#plot the pi array\n",
    "import matplotlib.pyplot as plt\n",
    "% matplotlib inline\n",
    "\n",
    "piarr=np.linspace(0,2*np.pi,num=100)\n",
    "sinarr=np.sin(piarr)\n",
    "plt.plot(piarr,sinarr) ## Ploting sin curve\n",
    "\n",
    "piarr.std()\n"
   ]
  },
  {
   "cell_type": "code",
   "execution_count": 17,
   "metadata": {
    "collapsed": false
   },
   "outputs": [
    {
     "data": {
      "text/plain": [
       "array([[ 814,  814,  814],\n",
       "       [1474, 1474, 1474],\n",
       "       [2134, 2134, 2134]])"
      ]
     },
     "execution_count": 17,
     "metadata": {},
     "output_type": "execute_result"
    }
   ],
   "source": [
    "#2D Array\n",
    "\n",
    "a=[[11,12,13],[21,22,23],[31,32,33]]\n",
    "b=np.array([[11,11,11],[22,22,22],[33,33,33]])\n",
    "A=np.array(a)\n",
    "A.ndim\n",
    "A.shape\n",
    "A.size\n",
    "A[0:3,1]\n",
    "Adot=np.dot(A,b)\n",
    "Adot"
   ]
  },
  {
   "cell_type": "code",
   "execution_count": null,
   "metadata": {
    "collapsed": true
   },
   "outputs": [],
   "source": []
  }
 ],
 "metadata": {
  "kernelspec": {
   "display_name": "Python 3",
   "language": "python",
   "name": "python3"
  },
  "language_info": {
   "codemirror_mode": {
    "name": "ipython",
    "version": 3
   },
   "file_extension": ".py",
   "mimetype": "text/x-python",
   "name": "python",
   "nbconvert_exporter": "python",
   "pygments_lexer": "ipython3",
   "version": "3.5.2"
  },
  "widgets": {
   "state": {},
   "version": "1.1.2"
  }
 },
 "nbformat": 4,
 "nbformat_minor": 0
}

