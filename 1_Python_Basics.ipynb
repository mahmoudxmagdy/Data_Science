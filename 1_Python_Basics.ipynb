{
 "cells": [
  {
   "cell_type": "code",
   "execution_count": 2,
   "metadata": {
    "collapsed": false
   },
   "outputs": [
    {
     "name": "stdout",
     "output_type": "stream",
     "text": [
      "9.0\n",
      "Hello \n",
      "This is me \n",
      "I am going to be a \t Data scientist\n"
     ]
    }
   ],
   "source": [
    "x=2\n",
    "y=5\n",
    "z=(x*x)+(y*y)/5\n",
    "print(z)\n",
    "print('Hello \\nThis is me \\nI am going to be a \\t Data scientist')"
   ]
  },
  {
   "cell_type": "code",
   "execution_count": 3,
   "metadata": {
    "collapsed": false
   },
   "outputs": [
    {
     "name": "stdout",
     "output_type": "stream",
     "text": [
      "['Abdel Samee3', 'Amin', ['Ali', 'AIX']]\n"
     ]
    },
    {
     "data": {
      "text/plain": [
       "['Abdel Samee3', 'Amin', ['Ali', 'AIX']]"
      ]
     },
     "execution_count": 3,
     "metadata": {},
     "output_type": "execute_result"
    }
   ],
   "source": [
    "#Lists\n",
    "Magdy=['Mahmoud','Magdy','Amin']\n",
    "Magdy.append(['Ali','AIX'])\n",
    "Magdy[3][1]\n",
    "Magdy[0]='Abdel Samee3'\n",
    "del(Magdy[1])\n",
    "y=Magdy[1].split()\n",
    "print(Magdy)\n",
    "magdy2=Magdy[:]\n",
    "magdy2"
   ]
  },
  {
   "cell_type": "code",
   "execution_count": 4,
   "metadata": {
    "collapsed": false
   },
   "outputs": [
    {
     "data": {
      "text/plain": [
       "1"
      ]
     },
     "execution_count": 4,
     "metadata": {},
     "output_type": "execute_result"
    }
   ],
   "source": [
    "#Tuples\n",
    "Mtuple=(1,2,3,'Magdy',['B','C','X'])\n",
    "Mtuple[0]"
   ]
  },
  {
   "cell_type": "code",
   "execution_count": 5,
   "metadata": {
    "collapsed": false
   },
   "outputs": [
    {
     "name": "stdout",
     "output_type": "stream",
     "text": [
      "{'123', 'I', 'Magdy', '20', 'Gamed', 'am'}\n",
      "{'123', 'Magdy', '20', 'Gamed', 'am'}\n"
     ]
    },
    {
     "data": {
      "text/plain": [
       "False"
      ]
     },
     "execution_count": 5,
     "metadata": {},
     "output_type": "execute_result"
    }
   ],
   "source": [
    "#Sets\n",
    "Set1={'I','am','Magdy','123','20'}\n",
    "Set1.add('Gamed')\n",
    "print(Set1)\n",
    "Set1.remove('I')\n",
    "print(Set1)\n",
    "\"aim\" in Set1"
   ]
  },
  {
   "cell_type": "code",
   "execution_count": 6,
   "metadata": {
    "collapsed": false
   },
   "outputs": [
    {
     "name": "stdout",
     "output_type": "stream",
     "text": [
      "{'m4': 'Data', 'm2': 'Magdy', 'm3': 'Amin'}\n"
     ]
    },
    {
     "data": {
      "text/plain": [
       "dict_values(['Data', 'Magdy', 'Amin'])"
      ]
     },
     "execution_count": 6,
     "metadata": {},
     "output_type": "execute_result"
    }
   ],
   "source": [
    "#Dictionaries\n",
    "\n",
    "Dic={'m1':'Mahmoud', 'm2':'Magdy', 'm3':'Amin'}\n",
    "Dic['m2']\n",
    "Dic['m4']='Data'\n",
    "del(Dic['m1'])\n",
    "print(Dic)\n",
    "'m2' in Dic\n",
    "Dic.values()"
   ]
  },
  {
   "cell_type": "code",
   "execution_count": 7,
   "metadata": {
    "collapsed": false
   },
   "outputs": [
    {
     "name": "stdout",
     "output_type": "stream",
     "text": [
      "Go HOME\n",
      "Move on\n"
     ]
    }
   ],
   "source": [
    "#IF statement\n",
    "x1=20\n",
    "y1=21\n",
    "if x1==18:\n",
    "    print('you can enter gate1')\n",
    "elif x1<=17:\n",
    "    print ('you can enter gate2')\n",
    "elif y1==20 or x1>18:\n",
    "    print (\"Go HOME\")\n",
    "else:\n",
    "    print('You have no place here')\n",
    "    \n",
    "print('Move on')"
   ]
  },
  {
   "cell_type": "code",
   "execution_count": 8,
   "metadata": {
    "collapsed": false
   },
   "outputs": [
    {
     "name": "stdout",
     "output_type": "stream",
     "text": [
      "1\n",
      "2\n",
      "3\n",
      "4\n",
      "5\n",
      "[1, 2, 3, 4, 5]\n",
      "[0]\n",
      "[0, 1]\n",
      "[0, 1, 2]\n",
      "[0, 1, 2, 3]\n",
      "[0, 1, 2, 3, 4]\n",
      "Final shape of y3 =  [0, 1, 2, 3, 4]\n"
     ]
    }
   ],
   "source": [
    "#Loops\n",
    "##For loop\n",
    "r=[0,1,2,3,4]\n",
    "r2=[]\n",
    "x2=0\n",
    "for i in r:\n",
    "    x2=r[i]+1\n",
    "    print(x2)\n",
    "    r2.append(x2)\n",
    "print(r2)\n",
    "\n",
    "\n",
    "##While loop\n",
    "x3=[0,1,2,3,4,5]\n",
    "y3=[]\n",
    "\n",
    "i2=0\n",
    "while x3[i2]<5:\n",
    "    y3.append(x3[i2])\n",
    "    print(y3)\n",
    "    i2=i2+1\n",
    "    \n",
    "print(\"Final shape of y3 = \",y3)"
   ]
  },
  {
   "cell_type": "code",
   "execution_count": 9,
   "metadata": {
    "collapsed": false
   },
   "outputs": [
    {
     "name": "stdout",
     "output_type": "stream",
     "text": [
      "5\n",
      "15\n",
      "[1, 2, 3, 5, 21, 53, 89]\n",
      "16\n",
      "No. 0  Rate: 10\n",
      "No. 1  Rate: 7\n",
      "No. 2  Rate: 8.5\n",
      "No. 3  Rate: 9\n",
      "['Mahmoud', 'magdy', 'amin', 'ali']\n"
     ]
    }
   ],
   "source": [
    "#Functions\n",
    "l1=[3,5,1,2,89,53,21]\n",
    "\n",
    "l=len(r2) #length\n",
    "print(l) \n",
    "\n",
    "s=sum(r2) #sum \n",
    "print(s)\n",
    "\n",
    "l1=sorted(l1) #Sort a list\n",
    "print(l1)\n",
    "\n",
    "def f1(inp): # built function\n",
    "    oup=inp+1;\n",
    "    return oup\n",
    "print(f1(s))\n",
    "\n",
    "#loop in function\n",
    "stuff=[10,7,8.5,9]\n",
    "def prstuff(stuff):\n",
    "    for i,s in enumerate(stuff):\n",
    "        print(\"No.\",i,\" Rate:\",s)\n",
    "prstuff(stuff)\n",
    "\n",
    "#Variadic parameter\n",
    "artists=[\"Mahmoud\",'magdy','amin','ali']\n",
    "def artist(*names):\n",
    "    for name in names:\n",
    "        print(name)\n",
    "artist(artists)"
   ]
  },
  {
   "cell_type": "code",
   "execution_count": 10,
   "metadata": {
    "collapsed": false
   },
   "outputs": [
    {
     "name": "stdout",
     "output_type": "stream",
     "text": [
      "AaaCDC\n",
      "AaaCDC\n"
     ]
    },
    {
     "data": {
      "text/plain": [
       "str"
      ]
     },
     "execution_count": 10,
     "metadata": {},
     "output_type": "execute_result"
    }
   ],
   "source": [
    "def addDC(y):\n",
    "    global xy\n",
    "    xy=y+\"DC\"\n",
    "    return(xy)\n",
    "x=\"AaaC\"\n",
    "z=addDC(x)\n",
    "print(z)\n",
    "print(xy)\n",
    "type(z)\n",
    "\n"
   ]
  },
  {
   "cell_type": "code",
   "execution_count": 11,
   "metadata": {
    "collapsed": false
   },
   "outputs": [
    {
     "name": "stdout",
     "output_type": "stream",
     "text": [
      "10\n",
      "12\n"
     ]
    }
   ],
   "source": [
    "#Classes\n",
    "\n",
    "class cir():\n",
    "    def __init__(self,radius,color):\n",
    "        self.radius=radius\n",
    "        self.color=color\n",
    "    def add_radius(self,r):\n",
    "        self.radius=self.radius+r\n",
    "\n",
    "ct=cir(10,\"Red\")\n",
    "print(ct.radius)\n",
    "ct.add_radius(2)\n",
    "print(ct.radius)\n",
    "#dir(ct.color)\n",
    "    "
   ]
  },
  {
   "cell_type": "code",
   "execution_count": 12,
   "metadata": {
    "collapsed": false
   },
   "outputs": [
    {
     "name": "stdout",
     "output_type": "stream",
     "text": [
      "True\n",
      "I love dogs\n",
      "I don't like Cats\n",
      "I may own a dog or Hippo but not a cat\n",
      "\n",
      "True\n"
     ]
    }
   ],
   "source": [
    
